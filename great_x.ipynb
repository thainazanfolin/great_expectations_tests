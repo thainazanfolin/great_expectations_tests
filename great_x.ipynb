{
 "cells": [
  {
   "cell_type": "code",
   "execution_count": 16,
   "id": "1f0236b8",
   "metadata": {},
   "outputs": [],
   "source": [
    "import pandas as pd\n",
    "import great_expectations as gx\n",
    "from great_expectations.validator.validator import Validator\n",
    "from great_expectations.execution_engine.pandas_execution_engine import PandasExecutionEngine\n",
    "from great_expectations.render.renderer import ValidationResultsPageRenderer\n",
    "from great_expectations.render.view import DefaultJinjaPageView\n",
    "import os\n",
    "import webbrowser"
   ]
  },
  {
   "cell_type": "markdown",
   "id": "f1790078",
   "metadata": {},
   "source": [
    "## 1. Carregando o Dataset\n",
    "Carregando o dataset a partir do arquivo raw no github."
   ]
  },
  {
   "cell_type": "code",
   "execution_count": null,
   "id": "9689629a",
   "metadata": {},
   "outputs": [],
   "source": [
    "\n",
    "# url = 'https://raw.githubusercontent.com/thainazanfolin/great_expectations_tests/refs/heads/main/Sleep_Efficiency_table.csv'\n",
    "\n",
    "df = pd.read_csv(r'C:\\Users\\thain\\Desktop\\great_x\\Sleep_Efficiency_table.csv', delimiter=';')\n",
    "\n",
    "# visão inicial do df\n",
    "df.head()\n",
    "\n"
   ]
  },
  {
   "cell_type": "markdown",
   "id": "ab0b2877",
   "metadata": {},
   "source": [
    "## 2. Análise exploratória dos dados\n",
    "Iniciando a análise exploratória para entender possíveis testes úteis no momento do ETL.  <br><br>\n",
    "Em outras palavras, fazendo a análise exploratória dos dados, conseguimos **entender o que nós esperamos deles, ou seja, quais são nossas expectativas.**"
   ]
  },
  {
   "cell_type": "code",
   "execution_count": null,
   "id": "c6a29942",
   "metadata": {},
   "outputs": [],
   "source": [
    "# número de linhas e colunas\n",
    "print(f\"\\nLinhas e colunas: {df.shape[0]} linhas e {df.shape[1]} colunas\")\n",
    "\n",
    "# nomes das colunas\n",
    "print(\"\\nColunas:\")\n",
    "print(df.columns.tolist())\n",
    "\n",
    "# tipos de dados e contagem (não nulos)\n",
    "print(\"\\nInfos:\")\n",
    "print(df.info())\n",
    "\n",
    "# valores nulos por coluna\n",
    "print(\"\\nValores nulos por coluna:\")\n",
    "print(df.isnull().sum())\n",
    "\n",
    "# % de valores nulos\n",
    "print(\"\\n% de valores nulos por coluna:\")\n",
    "print((df.isnull().mean() * 100).round(2))\n",
    "\n",
    "# Colunas numéricas\n",
    "print(\"\\nEstatísticas descritivas (colunas numéricas):\")\n",
    "print(df.describe())\n",
    "\n",
    "# Colunas categóricas\n",
    "print(\"\\nEstatísticas descritivas (colunas categóricas):\")\n",
    "print(df.describe(include=['object']))\n",
    "\n",
    "# Detecta possíveis colunas com valores duplicados\n",
    "print(\"\\nRegistros duplicados (linhas inteiras):\", df.duplicated().sum())\n",
    "\n",
    "# Verifica se há colunas que parecem ser identificadores únicos\n",
    "print(\"\\nColunas com valores únicos em todas as linhas (possíveis IDs):\")\n",
    "for col in df.columns:\n",
    "    if df[col].is_unique:\n",
    "        print(f\"- {col}\")\n"
   ]
  },
  {
   "cell_type": "markdown",
   "id": "1acad229",
   "metadata": {},
   "source": [
    "# **Resultado da análise exploratória**\n",
    "* 452 linhas e 15 colunas.\n",
    "\n",
    "* Colunas: inclui variáveis sobre dados pessoais (ID, idade, gênero), hábitos de sono (hora de dormir, hora de acordar, duração do sono, eficiência do sono, percentagens de sono REM, profundo e leve, despertares), consumo de substâncias (cafeína, álcool, tabagismo) e exercícios físicos.\n",
    "\n",
    "Ausência de Dados:\n",
    "\n",
    "* Awakenings: 4.42% ausentes.\n",
    "\n",
    "* Caffeine consumption: 5.53% ausentes.\n",
    "\n",
    "* Alcohol consumption: 3.10% ausentes.\n",
    "\n",
    "* Exercise frequency: 1.33% ausentes.\n"
   ]
  },
  {
   "cell_type": "markdown",
   "id": "dae6daf7",
   "metadata": {},
   "source": [
    "## **Usando o Great Expectations para ETL**"
   ]
  },
  {
   "cell_type": "markdown",
   "id": "a1ce44d2",
   "metadata": {},
   "source": [
    "### O que vamos fazer com o great_expectations:"
   ]
  },
  {
   "cell_type": "markdown",
   "id": "aaaa4f3e",
   "metadata": {},
   "source": [
    "A partir dos resultados da análise exploratória, vemos que temos valores nulos em alguns campos e, além disso, conseguimos saber o que esperar (ou seja, nossas expectativas) frente aos dados que vamos receber (tipo de dado, range de valores etc). <br><br>\n",
    "É isto que vamos fazer agora!"
   ]
  },
  {
   "cell_type": "markdown",
   "id": "78e70491",
   "metadata": {},
   "source": [
    "# Configurando o Great Expectations"
   ]
  },
  {
   "cell_type": "code",
   "execution_count": 18,
   "id": "007bf9cf",
   "metadata": {},
   "outputs": [],
   "source": [
    "\n",
    "df = pd.read_csv(\"Sleep_Efficiency_table.csv\", delimiter=\";\")  # ajuste o caminho e delimitador se necessário\n",
    "\n",
    "# contexto \n",
    "context = gx.get_context()\n",
    "\n",
    "#  fonte de dados\n",
    "datasource = context.sources.add_pandas(name=\"pandas_ds_11\")\n",
    "\n",
    "#  DataFrame como um asset\n",
    "data_asset = datasource.add_dataframe_asset(name=\"sleep_data\")\n",
    "\n",
    "# batch a partir do DataFrame\n",
    "batch_request = data_asset.build_batch_request(dataframe=df)\n",
    "\n",
    "#  validador com base no batch\n",
    "validator = context.get_validator(batch_request=batch_request)"
   ]
  },
  {
   "cell_type": "markdown",
   "id": "6b9cb0e1",
   "metadata": {},
   "source": [
    "## Começando as validações"
   ]
  },
  {
   "cell_type": "code",
   "execution_count": null,
   "id": "d6315350",
   "metadata": {},
   "outputs": [
    {
     "data": {
      "application/vnd.jupyter.widget-view+json": {
       "model_id": "cf8c7317e72e4ae2a72dad78986e4b38",
       "version_major": 2,
       "version_minor": 0
      },
      "text/plain": [
       "Calculating Metrics:   0%|          | 0/6 [00:00<?, ?it/s]"
      ]
     },
     "metadata": {},
     "output_type": "display_data"
    },
    {
     "data": {
      "application/vnd.jupyter.widget-view+json": {
       "model_id": "f4caec645710443e919a7ec65ae12a92",
       "version_major": 2,
       "version_minor": 0
      },
      "text/plain": [
       "Calculating Metrics:   0%|          | 0/6 [00:00<?, ?it/s]"
      ]
     },
     "metadata": {},
     "output_type": "display_data"
    },
    {
     "data": {
      "application/vnd.jupyter.widget-view+json": {
       "model_id": "82986f1a1a4246d98ed99d992b596386",
       "version_major": 2,
       "version_minor": 0
      },
      "text/plain": [
       "Calculating Metrics:   0%|          | 0/6 [00:00<?, ?it/s]"
      ]
     },
     "metadata": {},
     "output_type": "display_data"
    },
    {
     "data": {
      "application/vnd.jupyter.widget-view+json": {
       "model_id": "143a42dc6a4e4e05aedbc7f0733f9e0c",
       "version_major": 2,
       "version_minor": 0
      },
      "text/plain": [
       "Calculating Metrics:   0%|          | 0/6 [00:00<?, ?it/s]"
      ]
     },
     "metadata": {},
     "output_type": "display_data"
    },
    {
     "data": {
      "application/vnd.jupyter.widget-view+json": {
       "model_id": "700703fd73ba41f3be0aa78c0fb19871",
       "version_major": 2,
       "version_minor": 0
      },
      "text/plain": [
       "Calculating Metrics:   0%|          | 0/6 [00:00<?, ?it/s]"
      ]
     },
     "metadata": {},
     "output_type": "display_data"
    },
    {
     "data": {
      "application/vnd.jupyter.widget-view+json": {
       "model_id": "3e24f92086274b4aae5db912c866b4de",
       "version_major": 2,
       "version_minor": 0
      },
      "text/plain": [
       "Calculating Metrics:   0%|          | 0/6 [00:00<?, ?it/s]"
      ]
     },
     "metadata": {},
     "output_type": "display_data"
    },
    {
     "data": {
      "application/vnd.jupyter.widget-view+json": {
       "model_id": "cbbcda6a12794bd8b633d4f2da628890",
       "version_major": 2,
       "version_minor": 0
      },
      "text/plain": [
       "Calculating Metrics:   0%|          | 0/8 [00:00<?, ?it/s]"
      ]
     },
     "metadata": {},
     "output_type": "display_data"
    },
    {
     "data": {
      "application/vnd.jupyter.widget-view+json": {
       "model_id": "f8dd323c70ae4de5a7b4b7e5d12edc8b",
       "version_major": 2,
       "version_minor": 0
      },
      "text/plain": [
       "Calculating Metrics:   0%|          | 0/8 [00:00<?, ?it/s]"
      ]
     },
     "metadata": {},
     "output_type": "display_data"
    },
    {
     "data": {
      "application/vnd.jupyter.widget-view+json": {
       "model_id": "b488b78dd63f47d4bcd4acc5e3dadc8c",
       "version_major": 2,
       "version_minor": 0
      },
      "text/plain": [
       "Calculating Metrics:   0%|          | 0/8 [00:00<?, ?it/s]"
      ]
     },
     "metadata": {},
     "output_type": "display_data"
    },
    {
     "data": {
      "application/vnd.jupyter.widget-view+json": {
       "model_id": "a95ac6ae5e5a414da268bfe430fc50fa",
       "version_major": 2,
       "version_minor": 0
      },
      "text/plain": [
       "Calculating Metrics:   0%|          | 0/8 [00:00<?, ?it/s]"
      ]
     },
     "metadata": {},
     "output_type": "display_data"
    },
    {
     "data": {
      "application/vnd.jupyter.widget-view+json": {
       "model_id": "4d3b28ac1b6b4b75be1b6332cef28d1e",
       "version_major": 2,
       "version_minor": 0
      },
      "text/plain": [
       "Calculating Metrics:   0%|          | 0/1 [00:00<?, ?it/s]"
      ]
     },
     "metadata": {},
     "output_type": "display_data"
    },
    {
     "data": {
      "application/vnd.jupyter.widget-view+json": {
       "model_id": "14422630e90d4f7ea1e3eeda23bc3615",
       "version_major": 2,
       "version_minor": 0
      },
      "text/plain": [
       "Calculating Metrics:   0%|          | 0/1 [00:00<?, ?it/s]"
      ]
     },
     "metadata": {},
     "output_type": "display_data"
    },
    {
     "data": {
      "application/vnd.jupyter.widget-view+json": {
       "model_id": "81aa0bbad96c4b4e8fefb5bdc1c81dd4",
       "version_major": 2,
       "version_minor": 0
      },
      "text/plain": [
       "Calculating Metrics:   0%|          | 0/8 [00:00<?, ?it/s]"
      ]
     },
     "metadata": {},
     "output_type": "display_data"
    },
    {
     "data": {
      "application/vnd.jupyter.widget-view+json": {
       "model_id": "eba47d48cbe04241bde0462eb573b673",
       "version_major": 2,
       "version_minor": 0
      },
      "text/plain": [
       "Calculating Metrics:   0%|          | 0/8 [00:00<?, ?it/s]"
      ]
     },
     "metadata": {},
     "output_type": "display_data"
    },
    {
     "data": {
      "text/plain": [
       "{\n",
       "  \"success\": true,\n",
       "  \"result\": {\n",
       "    \"element_count\": 452,\n",
       "    \"unexpected_count\": 0,\n",
       "    \"unexpected_percent\": 0.0,\n",
       "    \"partial_unexpected_list\": [],\n",
       "    \"missing_count\": 0,\n",
       "    \"missing_percent\": 0.0,\n",
       "    \"unexpected_percent_total\": 0.0,\n",
       "    \"unexpected_percent_nonmissing\": 0.0\n",
       "  },\n",
       "  \"meta\": {},\n",
       "  \"exception_info\": {\n",
       "    \"raised_exception\": false,\n",
       "    \"exception_traceback\": null,\n",
       "    \"exception_message\": null\n",
       "  }\n",
       "}"
      ]
     },
     "execution_count": 5,
     "metadata": {},
     "output_type": "execute_result"
    }
   ],
   "source": [
    "# 1. valores ausentes\n",
    "validator.expect_column_values_to_not_be_null(\"Sleep efficiency\")\n",
    "validator.expect_column_values_to_not_be_null(\"Age\")\n",
    "validator.expect_column_values_to_not_be_null(\"Sleep duration\")\n",
    "validator.expect_column_values_to_not_be_null(\"Gender\")\n",
    "validator.expect_column_values_to_not_be_null(\"Bedtime\")\n",
    "validator.expect_column_values_to_not_be_null(\"Wakeup time\")\n",
    "\n",
    "# 2. dentro de intervalos válidos\n",
    "validator.expect_column_values_to_be_between(\"Age\", min_value=18, max_value=100)\n",
    "validator.expect_column_values_to_be_between(\"Sleep efficiency\", min_value=0.0, max_value=1.0)\n",
    "validator.expect_column_values_to_be_between(\"Sleep duration\", min_value=3, max_value=12)\n",
    "validator.expect_column_values_to_be_between(\"Awakenings\", min_value=0, max_value=10)\n",
    "# validator.expect_column_values_to_be_greater_than_or_equal_to(\"Caffeine consumption\", 0)\n",
    "# validator.expect_column_values_to_be_greater_than_or_equal_to(\"Alcohol consumption\", 0)\n",
    "# validator.expect_column_values_to_be_greater_than_or_equal_to(\"Exercise frequency\", 0)\n",
    "\n",
    "# 3. verificacao de tipos\n",
    "validator.expect_column_values_to_be_of_type(\"Age\", \"int64\")\n",
    "validator.expect_column_values_to_be_of_type(\"Sleep efficiency\", \"float64\")\n",
    "\n",
    "# 4. conjuntos de valores esperados\n",
    "validator.expect_column_values_to_be_in_set(\"Gender\", [\"Male\", \"Female\"])\n",
    "validator.expect_column_values_to_be_in_set(\"Smoking status\", [\"Yes\", \"No\"])"
   ]
  },
  {
   "cell_type": "markdown",
   "id": "02fba5b1",
   "metadata": {},
   "source": [
    "## Executando e vendo as validações"
   ]
  },
  {
   "cell_type": "code",
   "execution_count": null,
   "id": "be1232d9",
   "metadata": {},
   "outputs": [
    {
     "data": {
      "application/vnd.jupyter.widget-view+json": {
       "model_id": "39776d0e9bf54a6f98edf26b6812161a",
       "version_major": 2,
       "version_minor": 0
      },
      "text/plain": [
       "Calculating Metrics:   0%|          | 0/43 [00:00<?, ?it/s]"
      ]
     },
     "metadata": {},
     "output_type": "display_data"
    },
    {
     "name": "stdout",
     "output_type": "stream",
     "text": [
      "Resultados da validação: {\n",
      "  \"success\": false,\n",
      "  \"results\": [\n",
      "    {\n",
      "      \"success\": true,\n",
      "      \"expectation_config\": {\n",
      "        \"expectation_type\": \"expect_column_values_to_not_be_null\",\n",
      "        \"kwargs\": {\n",
      "          \"column\": \"Sleep efficiency\",\n",
      "          \"batch_id\": \"pandas_ds_10-sleep_data\"\n",
      "        },\n",
      "        \"meta\": {}\n",
      "      },\n",
      "      \"result\": {\n",
      "        \"element_count\": 452,\n",
      "        \"unexpected_count\": 0,\n",
      "        \"unexpected_percent\": 0.0,\n",
      "        \"partial_unexpected_list\": []\n",
      "      },\n",
      "      \"meta\": {},\n",
      "      \"exception_info\": {\n",
      "        \"raised_exception\": false,\n",
      "        \"exception_traceback\": null,\n",
      "        \"exception_message\": null\n",
      "      }\n",
      "    },\n",
      "    {\n",
      "      \"success\": true,\n",
      "      \"expectation_config\": {\n",
      "        \"expectation_type\": \"expect_column_values_to_be_between\",\n",
      "        \"kwargs\": {\n",
      "          \"min_value\": 0.0,\n",
      "          \"max_value\": 1.0,\n",
      "          \"column\": \"Sleep efficiency\",\n",
      "          \"batch_id\": \"pandas_ds_10-sleep_data\"\n",
      "        },\n",
      "        \"meta\": {}\n",
      "      },\n",
      "      \"result\": {\n",
      "        \"element_count\": 452,\n",
      "        \"unexpected_count\": 0,\n",
      "        \"unexpected_percent\": 0.0,\n",
      "        \"partial_unexpected_list\": [],\n",
      "        \"missing_count\": 0,\n",
      "        \"missing_percent\": 0.0,\n",
      "        \"unexpected_percent_total\": 0.0,\n",
      "        \"unexpected_percent_nonmissing\": 0.0\n",
      "      },\n",
      "      \"meta\": {},\n",
      "      \"exception_info\": {\n",
      "        \"raised_exception\": false,\n",
      "        \"exception_traceback\": null,\n",
      "        \"exception_message\": null\n",
      "      }\n",
      "    },\n",
      "    {\n",
      "      \"success\": true,\n",
      "      \"expectation_config\": {\n",
      "        \"expectation_type\": \"expect_column_values_to_be_of_type\",\n",
      "        \"kwargs\": {\n",
      "          \"column\": \"Sleep efficiency\",\n",
      "          \"type_\": \"float64\",\n",
      "          \"batch_id\": \"pandas_ds_10-sleep_data\"\n",
      "        },\n",
      "        \"meta\": {}\n",
      "      },\n",
      "      \"result\": {\n",
      "        \"observed_value\": \"float64\"\n",
      "      },\n",
      "      \"meta\": {},\n",
      "      \"exception_info\": {\n",
      "        \"raised_exception\": false,\n",
      "        \"exception_traceback\": null,\n",
      "        \"exception_message\": null\n",
      "      }\n",
      "    },\n",
      "    {\n",
      "      \"success\": true,\n",
      "      \"expectation_config\": {\n",
      "        \"expectation_type\": \"expect_column_values_to_not_be_null\",\n",
      "        \"kwargs\": {\n",
      "          \"column\": \"Age\",\n",
      "          \"batch_id\": \"pandas_ds_10-sleep_data\"\n",
      "        },\n",
      "        \"meta\": {}\n",
      "      },\n",
      "      \"result\": {\n",
      "        \"element_count\": 452,\n",
      "        \"unexpected_count\": 0,\n",
      "        \"unexpected_percent\": 0.0,\n",
      "        \"partial_unexpected_list\": []\n",
      "      },\n",
      "      \"meta\": {},\n",
      "      \"exception_info\": {\n",
      "        \"raised_exception\": false,\n",
      "        \"exception_traceback\": null,\n",
      "        \"exception_message\": null\n",
      "      }\n",
      "    },\n",
      "    {\n",
      "      \"success\": false,\n",
      "      \"expectation_config\": {\n",
      "        \"expectation_type\": \"expect_column_values_to_be_between\",\n",
      "        \"kwargs\": {\n",
      "          \"min_value\": 18,\n",
      "          \"max_value\": 100,\n",
      "          \"column\": \"Age\",\n",
      "          \"batch_id\": \"pandas_ds_10-sleep_data\"\n",
      "        },\n",
      "        \"meta\": {}\n",
      "      },\n",
      "      \"result\": {\n",
      "        \"element_count\": 452,\n",
      "        \"unexpected_count\": 9,\n",
      "        \"unexpected_percent\": 1.991150442477876,\n",
      "        \"partial_unexpected_list\": [\n",
      "          11,\n",
      "          9,\n",
      "          16,\n",
      "          15,\n",
      "          14,\n",
      "          10,\n",
      "          13,\n",
      "          17,\n",
      "          12\n",
      "        ],\n",
      "        \"missing_count\": 0,\n",
      "        \"missing_percent\": 0.0,\n",
      "        \"unexpected_percent_total\": 1.991150442477876,\n",
      "        \"unexpected_percent_nonmissing\": 1.991150442477876\n",
      "      },\n",
      "      \"meta\": {},\n",
      "      \"exception_info\": {\n",
      "        \"raised_exception\": false,\n",
      "        \"exception_traceback\": null,\n",
      "        \"exception_message\": null\n",
      "      }\n",
      "    },\n",
      "    {\n",
      "      \"success\": true,\n",
      "      \"expectation_config\": {\n",
      "        \"expectation_type\": \"expect_column_values_to_be_of_type\",\n",
      "        \"kwargs\": {\n",
      "          \"column\": \"Age\",\n",
      "          \"type_\": \"int64\",\n",
      "          \"batch_id\": \"pandas_ds_10-sleep_data\"\n",
      "        },\n",
      "        \"meta\": {}\n",
      "      },\n",
      "      \"result\": {\n",
      "        \"observed_value\": \"int64\"\n",
      "      },\n",
      "      \"meta\": {},\n",
      "      \"exception_info\": {\n",
      "        \"raised_exception\": false,\n",
      "        \"exception_traceback\": null,\n",
      "        \"exception_message\": null\n",
      "      }\n",
      "    },\n",
      "    {\n",
      "      \"success\": true,\n",
      "      \"expectation_config\": {\n",
      "        \"expectation_type\": \"expect_column_values_to_not_be_null\",\n",
      "        \"kwargs\": {\n",
      "          \"column\": \"Sleep duration\",\n",
      "          \"batch_id\": \"pandas_ds_10-sleep_data\"\n",
      "        },\n",
      "        \"meta\": {}\n",
      "      },\n",
      "      \"result\": {\n",
      "        \"element_count\": 452,\n",
      "        \"unexpected_count\": 0,\n",
      "        \"unexpected_percent\": 0.0,\n",
      "        \"partial_unexpected_list\": []\n",
      "      },\n",
      "      \"meta\": {},\n",
      "      \"exception_info\": {\n",
      "        \"raised_exception\": false,\n",
      "        \"exception_traceback\": null,\n",
      "        \"exception_message\": null\n",
      "      }\n",
      "    },\n",
      "    {\n",
      "      \"success\": true,\n",
      "      \"expectation_config\": {\n",
      "        \"expectation_type\": \"expect_column_values_to_be_between\",\n",
      "        \"kwargs\": {\n",
      "          \"min_value\": 3,\n",
      "          \"max_value\": 12,\n",
      "          \"column\": \"Sleep duration\",\n",
      "          \"batch_id\": \"pandas_ds_10-sleep_data\"\n",
      "        },\n",
      "        \"meta\": {}\n",
      "      },\n",
      "      \"result\": {\n",
      "        \"element_count\": 452,\n",
      "        \"unexpected_count\": 0,\n",
      "        \"unexpected_percent\": 0.0,\n",
      "        \"partial_unexpected_list\": [],\n",
      "        \"missing_count\": 0,\n",
      "        \"missing_percent\": 0.0,\n",
      "        \"unexpected_percent_total\": 0.0,\n",
      "        \"unexpected_percent_nonmissing\": 0.0\n",
      "      },\n",
      "      \"meta\": {},\n",
      "      \"exception_info\": {\n",
      "        \"raised_exception\": false,\n",
      "        \"exception_traceback\": null,\n",
      "        \"exception_message\": null\n",
      "      }\n",
      "    },\n",
      "    {\n",
      "      \"success\": true,\n",
      "      \"expectation_config\": {\n",
      "        \"expectation_type\": \"expect_column_values_to_not_be_null\",\n",
      "        \"kwargs\": {\n",
      "          \"column\": \"Gender\",\n",
      "          \"batch_id\": \"pandas_ds_10-sleep_data\"\n",
      "        },\n",
      "        \"meta\": {}\n",
      "      },\n",
      "      \"result\": {\n",
      "        \"element_count\": 452,\n",
      "        \"unexpected_count\": 0,\n",
      "        \"unexpected_percent\": 0.0,\n",
      "        \"partial_unexpected_list\": []\n",
      "      },\n",
      "      \"meta\": {},\n",
      "      \"exception_info\": {\n",
      "        \"raised_exception\": false,\n",
      "        \"exception_traceback\": null,\n",
      "        \"exception_message\": null\n",
      "      }\n",
      "    },\n",
      "    {\n",
      "      \"success\": true,\n",
      "      \"expectation_config\": {\n",
      "        \"expectation_type\": \"expect_column_values_to_be_in_set\",\n",
      "        \"kwargs\": {\n",
      "          \"column\": \"Gender\",\n",
      "          \"value_set\": [\n",
      "            \"Male\",\n",
      "            \"Female\"\n",
      "          ],\n",
      "          \"batch_id\": \"pandas_ds_10-sleep_data\"\n",
      "        },\n",
      "        \"meta\": {}\n",
      "      },\n",
      "      \"result\": {\n",
      "        \"element_count\": 452,\n",
      "        \"unexpected_count\": 0,\n",
      "        \"unexpected_percent\": 0.0,\n",
      "        \"partial_unexpected_list\": [],\n",
      "        \"missing_count\": 0,\n",
      "        \"missing_percent\": 0.0,\n",
      "        \"unexpected_percent_total\": 0.0,\n",
      "        \"unexpected_percent_nonmissing\": 0.0\n",
      "      },\n",
      "      \"meta\": {},\n",
      "      \"exception_info\": {\n",
      "        \"raised_exception\": false,\n",
      "        \"exception_traceback\": null,\n",
      "        \"exception_message\": null\n",
      "      }\n",
      "    },\n",
      "    {\n",
      "      \"success\": true,\n",
      "      \"expectation_config\": {\n",
      "        \"expectation_type\": \"expect_column_values_to_not_be_null\",\n",
      "        \"kwargs\": {\n",
      "          \"column\": \"Bedtime\",\n",
      "          \"batch_id\": \"pandas_ds_10-sleep_data\"\n",
      "        },\n",
      "        \"meta\": {}\n",
      "      },\n",
      "      \"result\": {\n",
      "        \"element_count\": 452,\n",
      "        \"unexpected_count\": 0,\n",
      "        \"unexpected_percent\": 0.0,\n",
      "        \"partial_unexpected_list\": []\n",
      "      },\n",
      "      \"meta\": {},\n",
      "      \"exception_info\": {\n",
      "        \"raised_exception\": false,\n",
      "        \"exception_traceback\": null,\n",
      "        \"exception_message\": null\n",
      "      }\n",
      "    },\n",
      "    {\n",
      "      \"success\": true,\n",
      "      \"expectation_config\": {\n",
      "        \"expectation_type\": \"expect_column_values_to_not_be_null\",\n",
      "        \"kwargs\": {\n",
      "          \"column\": \"Wakeup time\",\n",
      "          \"batch_id\": \"pandas_ds_10-sleep_data\"\n",
      "        },\n",
      "        \"meta\": {}\n",
      "      },\n",
      "      \"result\": {\n",
      "        \"element_count\": 452,\n",
      "        \"unexpected_count\": 0,\n",
      "        \"unexpected_percent\": 0.0,\n",
      "        \"partial_unexpected_list\": []\n",
      "      },\n",
      "      \"meta\": {},\n",
      "      \"exception_info\": {\n",
      "        \"raised_exception\": false,\n",
      "        \"exception_traceback\": null,\n",
      "        \"exception_message\": null\n",
      "      }\n",
      "    },\n",
      "    {\n",
      "      \"success\": true,\n",
      "      \"expectation_config\": {\n",
      "        \"expectation_type\": \"expect_column_values_to_be_between\",\n",
      "        \"kwargs\": {\n",
      "          \"min_value\": 0,\n",
      "          \"max_value\": 10,\n",
      "          \"column\": \"Awakenings\",\n",
      "          \"batch_id\": \"pandas_ds_10-sleep_data\"\n",
      "        },\n",
      "        \"meta\": {}\n",
      "      },\n",
      "      \"result\": {\n",
      "        \"element_count\": 452,\n",
      "        \"unexpected_count\": 0,\n",
      "        \"unexpected_percent\": 0.0,\n",
      "        \"partial_unexpected_list\": [],\n",
      "        \"missing_count\": 20,\n",
      "        \"missing_percent\": 4.424778761061947,\n",
      "        \"unexpected_percent_total\": 0.0,\n",
      "        \"unexpected_percent_nonmissing\": 0.0\n",
      "      },\n",
      "      \"meta\": {},\n",
      "      \"exception_info\": {\n",
      "        \"raised_exception\": false,\n",
      "        \"exception_traceback\": null,\n",
      "        \"exception_message\": null\n",
      "      }\n",
      "    },\n",
      "    {\n",
      "      \"success\": true,\n",
      "      \"expectation_config\": {\n",
      "        \"expectation_type\": \"expect_column_values_to_be_in_set\",\n",
      "        \"kwargs\": {\n",
      "          \"column\": \"Smoking status\",\n",
      "          \"value_set\": [\n",
      "            \"Yes\",\n",
      "            \"No\"\n",
      "          ],\n",
      "          \"batch_id\": \"pandas_ds_10-sleep_data\"\n",
      "        },\n",
      "        \"meta\": {}\n",
      "      },\n",
      "      \"result\": {\n",
      "        \"element_count\": 452,\n",
      "        \"unexpected_count\": 0,\n",
      "        \"unexpected_percent\": 0.0,\n",
      "        \"partial_unexpected_list\": [],\n",
      "        \"missing_count\": 0,\n",
      "        \"missing_percent\": 0.0,\n",
      "        \"unexpected_percent_total\": 0.0,\n",
      "        \"unexpected_percent_nonmissing\": 0.0\n",
      "      },\n",
      "      \"meta\": {},\n",
      "      \"exception_info\": {\n",
      "        \"raised_exception\": false,\n",
      "        \"exception_traceback\": null,\n",
      "        \"exception_message\": null\n",
      "      }\n",
      "    }\n",
      "  ],\n",
      "  \"evaluation_parameters\": {},\n",
      "  \"statistics\": {\n",
      "    \"evaluated_expectations\": 14,\n",
      "    \"successful_expectations\": 13,\n",
      "    \"unsuccessful_expectations\": 1,\n",
      "    \"success_percent\": 92.85714285714286\n",
      "  },\n",
      "  \"meta\": {\n",
      "    \"great_expectations_version\": \"0.17.21\",\n",
      "    \"expectation_suite_name\": \"default\",\n",
      "    \"run_id\": {\n",
      "      \"run_name\": null,\n",
      "      \"run_time\": \"2025-05-06T18:52:52.587255-03:00\"\n",
      "    },\n",
      "    \"batch_spec\": {\n",
      "      \"batch_data\": \"PandasDataFrame\"\n",
      "    },\n",
      "    \"batch_markers\": {\n",
      "      \"ge_load_time\": \"20250506T215233.288020Z\",\n",
      "      \"pandas_data_fingerprint\": \"2cc71508844d4513c7af4527eadd3d04\"\n",
      "    },\n",
      "    \"active_batch_definition\": {\n",
      "      \"datasource_name\": \"pandas_ds_10\",\n",
      "      \"data_connector_name\": \"fluent\",\n",
      "      \"data_asset_name\": \"sleep_data\",\n",
      "      \"batch_identifiers\": {}\n",
      "    },\n",
      "    \"validation_time\": \"20250506T215252.587255Z\",\n",
      "    \"checkpoint_name\": null\n",
      "  }\n",
      "}\n"
     ]
    }
   ],
   "source": [
    "# executa validações\n",
    "results = validator.validate()\n",
    "\n",
    "# verificando os resultados\n",
    "print(\"Resultados da validação:\", results)"
   ]
  },
  {
   "cell_type": "markdown",
   "id": "9bebc827",
   "metadata": {},
   "source": [
    "## Gerando o relatório"
   ]
  },
  {
   "cell_type": "code",
   "execution_count": 19,
   "id": "6eb4b955",
   "metadata": {},
   "outputs": [],
   "source": [
    "# Gera o relatório\n",
    "context.build_data_docs()\n",
    "# context.open_data_docs()\n",
    "\n",
    "# 2. Gerar a renderização HTML do resultado de validação\n",
    "document_model = ValidationResultsPageRenderer().render(results)  # Usando `results` corretamente\n",
    "html = DefaultJinjaPageView().render(document_model)  # Renderizando o HTML\n",
    "\n",
    "# 3. Criar o diretório de saída (se não existir) e salvar o HTML\n",
    "output_dir = \"ge_output\"\n",
    "os.makedirs(output_dir, exist_ok=True)\n",
    "output_path = os.path.join(output_dir, \"sleep_report.html\")  # Usando a variável `output_path` corretamente\n",
    "\n",
    "# # Salvar o HTML gerado no arquivo\n",
    "# with open(output_path, \"w\") as f:\n",
    "#     f.write(html)\n",
    "\n",
    "# # Caminho do arquivo HTML gerado\n",
    "# if os.path.exists(output_path):\n",
    "#     webbrowser.open(f\"file://{os.path.abspath(output_path)}\")  # Abrindo o arquivo no navegador\n",
    "# else:\n",
    "#     print(\"Arquivo não encontrado.\")\n"
   ]
  }
 ],
 "metadata": {
  "kernelspec": {
   "display_name": "Python 3",
   "language": "python",
   "name": "python3"
  },
  "language_info": {
   "codemirror_mode": {
    "name": "ipython",
    "version": 3
   },
   "file_extension": ".py",
   "mimetype": "text/x-python",
   "name": "python",
   "nbconvert_exporter": "python",
   "pygments_lexer": "ipython3",
   "version": "3.11.3"
  }
 },
 "nbformat": 4,
 "nbformat_minor": 5
}
